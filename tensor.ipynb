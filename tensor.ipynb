import tensorflow as tf
from tensorflow.keras import datasets, layers, models
import matplotlib.pyplot as plt
import numpy as np
import os
import pickle
from PIL import Image

# Fonction pour charger les fichiers batch de CIFAR-10
def load_cifar_batch(filename):
    with open(filename, 'rb') as f:
        datadict = pickle.load(f, encoding='bytes')
        X = datadict[b'data']
        Y = datadict[b'labels']
        X = X.reshape(10000, 3, 32, 32).transpose(0, 2, 3, 1).astype("float")
        Y = np.array(Y)
        return X, Y

# Chemin vers le répertoire contenant les batches de CIFAR-10
cifar10_dir = 'cifar-10-batches-py'

# Chargement des batches d'entraînement
X_train = []
y_train = []
for i in range(1, 6):
    f = os.path.join(cifar10_dir, f'data_batch_{i}')
    X, Y = load_cifar_batch(f)
    X_train.append(X)
    y_train.append(Y)
X_train = np.concatenate(X_train)
y_train = np.concatenate(y_train)

# Chargement du batch de test
X_test, y_test = load_cifar_batch(os.path.join(cifar10_dir, 'test_batch'))

# Normalisation des images
X_train, X_test = X_train / 255.0, X_test / 255.0

# Spécifier l'utilisation du GPU
with tf.device('/GPU:0'):
    # Création du modèle CNN
    model = models.Sequential()
    model.add(layers.Conv2D(32, (3, 3), activation='relu', input_shape=(32, 32, 3)))
    model.add(layers.MaxPooling2D((2, 2)))
    model.add(layers.Conv2D(64, (3, 3), activation='relu'))
    model.add(layers.MaxPooling2D((2, 2)))
    model.add(layers.Conv2D(64, (3, 3), activation='relu'))

    model.add(layers.Flatten())
    model.add(layers.Dense(64, activation='relu'))
    model.add(layers.Dense(10))

    model.summary()

    # Compilation et entraînement du modèle
    model.compile(optimizer='adam',
                  loss=tf.keras.losses.SparseCategoricalCrossentropy(from_logits=True),
                  metrics=['accuracy'])

    history = model.fit(X_train, y_train, epochs=10, 
                        validation_data=(X_test, y_test))

# Affichage de l'exactitude de l'entraînement et de la validation
plt.plot(history.history['accuracy'], label='accuracy')
plt.plot(history.history['val_accuracy'], label='val_accuracy')
plt.xlabel('Epoch')
plt.ylabel('Accuracy')
plt.ylim([0, 1])
plt.legend(loc='lower right')
plt.show()

# Évaluation du modèle
with tf.device('/GPU:0'):
    test_loss, test_acc = model.evaluate(X_test, y_test, verbose=2)
    print(f'Test accuracy: {test_acc}')

# Fonction de prédiction pour une nouvelle image
def predict_image(image_path, model):
    class_names = ['airplane', 'automobile', 'bird', 'cat', 'deer', 'dog', 'frog', 'horse', 'ship', 'truck']

    # Chargement et pré-traitement de l'image
    img = Image.open(image_path)
    img = img.resize((32, 32))
    img_array = np.array(img) / 255.0
    img_array = np.expand_dims(img_array, axis=0)  # Ajouter une dimension pour le batch

    # Prédiction
    with tf.device('/GPU:0'):
        predictions = model.predict(img_array)
        predicted_class = np.argmax(predictions)
    
    print(f'Predicted class: {class_names[predicted_class]}')

# Exemple d'utilisation de la fonction de prédiction
predict_image('path_to_your_image.jpg', model)
